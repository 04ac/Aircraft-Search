{
 "cells": [
  {
   "cell_type": "markdown",
   "metadata": {},
   "source": [
    "### Enter Aircraft Code"
   ]
  },
  {
   "cell_type": "code",
   "execution_count": 1,
   "metadata": {},
   "outputs": [],
   "source": [
    "aircraft_code = \"N607UP\""
   ]
  },
  {
   "cell_type": "code",
   "execution_count": 28,
   "metadata": {},
   "outputs": [],
   "source": [
    "from bs4 import BeautifulSoup\n",
    "import requests\n",
    "from selenium import webdriver\n",
    "\n",
    "HEADERS = {\n",
    "        'User-Agent': 'Mozilla/5.0 (Windows NT 10.0; Win64; x64) AppleWebKit/537.36 (KHTML, like Gecko) Chrome/111.0.0.0 Safari/537.36 Edg/111.0.1661.62'\n",
    "    }\n",
    "# html_text = requests.get(\"https://flightaware.com/resources/registration/\" + aircraft_code, headers=HEADERS).text\n",
    "dr = webdriver.Edge()\n",
    "dr.get(\"https://flightaware.com/resources/registration/\" + aircraft_code)\n"
   ]
  },
  {
   "cell_type": "code",
   "execution_count": 29,
   "metadata": {},
   "outputs": [
    {
     "data": {
      "text/plain": [
       "\"\\n\\n\\n\\n\\n\\nN607UP (2017 BOEING 747-8F owned by C C & E I LLC) Aircraft Registration - FlightAware\\n\\n\\n\\n\\n\\n\\n\\n\\n\\n\\n\\n\\n\\n\\n\\n\\n\\n\\n\\n\\n\\n\\n\\n\\n\\n\\n\\n\\n\\n\\n\\n\\n\\n\\n\\n\\n\\n\\n\\n\\n\\n\\n\\n\\n\\n\\n\\n\\n\\n\\n\\n\\n\\n\\n\\n\\n\\n\\n\\n\\n\\n\\n\\n\\n\\n\\n\\n\\n\\n\\n\\n\\n\\n\\n\\n\\n\\n\\n\\n\\n\\nProducts\\n\\n\\n\\n\\n\\n\\nData Products\\n\\n\\n\\n\\n\\nAeroAPI\\nFlight data API with on-demand flight status and flight tracking data.\\n\\n\\n\\n\\n\\n\\n\\nFlightAware Firehose\\nStreaming flight data feed for enterprise integrations with real-time, historical and predictive flight data.\\n\\n\\n\\n\\n\\n\\n\\nFlightAware Foresight\\nPredictive technology to strengthen customer trust in your operations\\n\\n\\n\\n\\n\\n\\n\\nRapid Reports\\nQuickly purchase historical reports delivered via email.\\n\\n\\n\\n\\n\\n\\n\\nCustom Reports\\nConsultative detailed and customized flight tracking data reports.\\n\\n\\n\\n\\n\\n\\n\\nIntegrated Mapping Solutions\\nIncorporate FlightAware maps in your web and mobile applications\\n\\n\\n\\n \\n\\nApplications\\n\\n\\n\\n\\n\\nFlightAware Aviator\\nThe ultimate flight tracking suite for small aircraft/general aviation (GA) owners and operators.\\n\\n\\n\\n\\n\\n\\n\\nPremium Subscriptions\\nA personalized flight-following experience with unlimited alerts and more.\\n\\n\\n\\n\\n\\n\\n\\nFlightAware Global\\nThe industry standard flight tracking platform for business aviation (BA) owners and operators.\\n\\n\\n\\n\\n\\n\\n\\nFlightAware FBO Toolbox\\nComprehensive flight tracking to enhance your FBO operations and increase sales.\\n\\n\\n\\n\\n\\n\\n\\nFlightAware TV\\nFull-screen FlightAware TV maps for operators or FBOs.\\n\\n\\n\\n\\n\\n\\n\\nGlobalBeacon\\nGADSS-compliant global tracking and alerting for airlines and aircraft operators.\\n\\n\\n\\n \\n\\n\\n\\n\\nIndustries\\n\\n\\n\\n\\n\\n\\n\\n\\nAirlines\\n\\n\\n\\n\\nAirports\\n\\n\\n\\n\\nAir Traffic Control\\n\\n\\n\\n\\nOwners and Operators\\n\\n\\n\\n\\nGovernment\\n\\n\\n\\n\\n\\n\\n\\nADS-B\\n\\n\\n\\n\\n\\n\\n\\n\\nStatistics\\n\\n\\n\\n\\nSkyAware Anywhere\\n\\n\\n\\n\\nCoverage Map\\n\\n\\n\\n\\nADS-B Store\\n\\n\\n\\n\\nBuild a PiAware ADS-B Receiver\\n\\n\\n\\n\\nFlightFeeder\\n\\n\\n\\n\\nFAQs\\n\\n\\n\\n\\n\\n\\n\\nFlight Tracking\\n\\n\\n\\n\\n\\n\\nDelays and cancellations\\n\\n\\n\\nCancellations\\n\\n\\n\\n\\nAirport Delays\\n\\n\\n\\n\\nMiseryMap\\n\\n\\n \\n\\nSearch flights\\n\\n\\n\\nFlight Finder\\n\\n\\n\\n\\nBrowse by Operator\\n\\n\\n\\n\\nBrowse by Airport\\n\\n\\n\\n\\nBrowse by Aircraft Type\\n\\n\\n \\n\\nOther\\n\\n\\n\\nRandom Airport\\n\\n\\n\\n\\nRandom Flight\\n\\n\\n\\n\\nIFR Route Analyzer\\n\\n\\n \\n\\n\\n\\n\\nCommunity\\n\\n\\n\\n\\n\\n\\nPhotos\\n\\n\\n\\nPopular Photos\\n\\n\\n\\n\\nNewest Photos\\n\\n\\n\\n\\nHighest Ranked\\n\\n\\n\\n\\nStaff Picks\\n\\n\\n\\n\\nRecent Comments\\n\\n\\n\\n\\nCommunity Tagging\\n\\n\\n\\n\\nUpload Your Photos\\n\\n\\n \\n\\nSquawks\\n\\n\\n\\nCurrent Squawks\\n\\n\\n\\n\\nNew Squawks\\n\\n\\n\\n\\nPopular Squawks\\n\\n\\n \\n\\nDiscussions\\n\\n\\n\\nAll Discussions\\n\\n\\n \\n\\n\\n\\n\\nCompany\\n\\n\\n\\n\\n\\n\\n\\n\\nAbout\\n\\n\\n\\n\\nCareers\\n\\n\\n\\n\\nData Sources\\n\\n\\n\\n\\nHistory\\n\\n\\n\\n\\nExecutive Team\\n\\n\\n\\n\\nBlog\\n\\n\\n\\n\\nEngineering Blog\\n\\n\\n\\n\\nNewsroom\\n\\n\\n\\n\\nWebinars\\n\\n\\n\\n\\nAdvertise With Us\\n\\n\\n\\n\\nFAQs\\n\\n\\n\\n\\nContact Us\\n\\n\\n\\n\\n\\n\\n\\nCreate a FlightAware Account\\nor log in to an existing account\\n\\n\\nGet the FlightAware App for the best flight tracking experience on your device.\\n\\n\\n\\n\\n\\n\\n\\n\\n\\n Join FlightAware Login06:13AM EST\\n\\n\\nالعربية\\nČeština\\nDeutsch\\nEnglish (Australia)\\nEnglish (Canada)\\nEnglish (UK)\\nEnglish (USA)\\nEspañol (España)\\nEspañol\\nSuomi\\nFrançais (Canada)\\nFrançais (France)\\nעִבְרִית\\nहिन्दी\\nHrvatski\\nItaliano\\n日本語\\n한국어\\nPolski\\nPortuguês (Brasil)\\nPortuguês (Portugal)\\nРусский\\nTürkçe\\n中文(简体)\\n中文(香港)\\n中文(台灣)\\n\\n\\n\\n\\xa0 AllAllRouteAirline flightPrivate flight (tail #)Airport      No matches found   Forgot the flight  number? Sign Up\\n\\n\\n\\nProducts\\n\\n\\n\\nData Products\\n\\n\\n\\n\\n\\nAeroAPI\\nFlight data API with on-demand flight status and flight tracking data.\\n\\n\\n\\n\\n\\n\\n\\nFlightAware Firehose\\nStreaming flight data feed for enterprise integrations with real-time, historical and predictive flight data.\\n\\n\\n\\n\\n\\n\\n\\nFlightAware Foresight\\nPredictive technology to strengthen customer trust in your operations\\n\\n\\n\\n\\n\\n\\n\\nRapid Reports\\nQuickly purchase historical reports delivered via email.\\n\\n\\n\\n\\n\\n\\n\\nCustom Reports\\nConsultative detailed and customized flight tracking data reports.\\n\\n\\n\\n\\n\\n\\n\\nIntegrated Mapping Solutions\\nIncorporate FlightAware maps in your web and mobile applications\\n\\n\\n\\n \\n\\nApplications\\n\\n\\n\\n\\n\\nFlightAware Aviator\\nThe ultimate flight tracking suite for small aircraft/general aviation (GA) owners and operators.\\n\\n\\n\\n\\n\\n\\n\\nPremium Subscriptions\\nA personalized flight-following experience with unlimited alerts and more.\\n\\n\\n\\n\\n\\n\\n\\nFlightAware Global\\nThe industry standard flight tracking platform for business aviation (BA) owners and operators.\\n\\n\\n\\n\\n\\n\\n\\nFlightAware FBO Toolbox\\nComprehensive flight tracking to enhance your FBO operations and increase sales.\\n\\n\\n\\n\\n\\n\\n\\nFlightAware TV\\nFull-screen FlightAware TV maps for operators or FBOs.\\n\\n\\n\\n\\n\\n\\n\\nGlobalBeacon\\nGADSS-compliant global tracking and alerting for airlines and aircraft operators.\\n\\n\\n\\n \\n\\n\\n\\n\\nIndustries\\n\\n\\n\\n\\n\\nAirlines\\n\\n\\n\\n\\nAirports\\n\\n\\n\\n\\nAir Traffic Control\\n\\n\\n\\n\\nOwners and Operators\\n\\n\\n\\n\\nGovernment\\n\\n\\n\\n\\n\\n\\n\\nADS-B\\n\\n\\n\\n\\n\\nStatistics\\n\\n\\n\\n\\nSkyAware Anywhere\\n\\n\\n\\n\\nCoverage Map\\n\\n\\n\\n\\nADS-B Store\\n\\n\\n\\n\\nBuild a PiAware ADS-B Receiver\\n\\n\\n\\n\\nFlightFeeder\\n\\n\\n\\n\\nFAQs\\n\\n\\n\\n\\n\\n\\n\\nFlight Tracking\\n\\n\\n\\nDelays and cancellations\\n\\n\\n\\nCancellations\\n\\n\\n\\n\\nAirport Delays\\n\\n\\n\\n\\nMiseryMap\\n\\n\\n \\n\\nSearch flights\\n\\n\\n\\nFlight Finder\\n\\n\\n\\n\\nBrowse by Operator\\n\\n\\n\\n\\nBrowse by Airport\\n\\n\\n\\n\\nBrowse by Aircraft Type\\n\\n\\n \\n\\nOther\\n\\n\\n\\nRandom Airport\\n\\n\\n\\n\\nRandom Flight\\n\\n\\n\\n\\nIFR Route Analyzer\\n\\n\\n \\n\\nDownload the FlightAware app today.\\n\\n\\n\\n\\n\\n\\n\\n\\n\\n\\n\\n\\n\\n\\n\\n\\n\\nCommunity\\n\\n\\n\\nPhotos\\n\\n\\n\\nPopular Photos\\n\\n\\n\\n\\nNewest Photos\\n\\n\\n\\n\\nHighest Ranked\\n\\n\\n\\n\\nStaff Picks\\n\\n\\n\\n\\nRecent Comments\\n\\n\\n\\n\\nCommunity Tagging\\n\\n\\n\\n\\nUpload Your Photos\\n\\n\\n \\n\\nSquawks\\n\\n\\n\\nCurrent Squawks\\n\\n\\n\\n\\nNew Squawks\\n\\n\\n\\n\\nPopular Squawks\\n\\n\\n \\n\\nDiscussions\\n\\n\\n\\nAll Discussions\\n\\n\\n \\n\\n\\n\\n\\nCompany\\n\\n\\n\\n\\n\\nAbout\\n\\n\\n\\n\\nCareers\\n\\n\\n\\n\\nData Sources\\n\\n\\n\\n\\nHistory\\n\\n\\n\\n\\nExecutive Team\\n\\n\\n\\n\\nBlog\\n\\n\\n\\n\\nEngineering Blog\\n\\n\\n\\n\\nNewsroom\\n\\n\\n\\n\\nWebinars\\n\\n\\n\\n\\nAdvertise With Us\\n\\n\\n\\n\\nFAQs\\n\\n\\n\\n\\nContact Us\\n\\n\\n\\n\\n\\n\\n\\n\\n\\n\\n\\n\\n\\n\\n\\n\\n\\nRegistration/Tail #\\n\\n\\nView Aircraft Registration\\n\\n\\n\\n\\n\\nLive N607UP flight tracker\\nView N607UP flight history\\nView N607UP photos\\n\\n\\n\\n\\n\\n\\n\\n\\n\\n\\n\\n\\n\\n  Want more information about this aircraft? You might be interested in our\\n  FBO ToolBox service.\\n  \\n    Click here.\\nN607UP Aircraft Registration\\n\\n\\n\\nAircraft Summary\\n\\nSummary\\n2017 BOEING 747-8F\\n\\t\\t\\tFixed wing multi engine\\n\\t\\t\\t(8 seats / 4 engines)\\n\\n\\nOwner\\nC C & E I LLC\\n\\t\\t\\tLOUISVILLE\\n\\t\\t\\t, KY, US\\n\\t\\t\\t\\n\\n\\nAirworthiness Class\\nStandard/Transport\\n\\n\\nSerial Number\\n64265\\n\\n\\nEngine\\nGE GENX-2B67/P (Turbo-fan)Thrust: 67400lbs\\n\\n\\nWeight\\nOver 20,000lbs\\n\\n\\nSpeed\\nNot defined\\n\\n\\nMode S Code\\n051761420 / A7E310\\n\\n\\n\\n\\n\\nRegistration Details\\n\\nStatus\\nAssigned\\n\\n\\nCertificate Issue Date\\n2017-10-19\\n\\n\\nAirworthiness Date\\n2017-10-15\\n\\n\\nLast Action Date\\n2020-06-01\\n\\n\\nExpiration\\n2023-10-31\\n\\n\\nRegistry Source\\nFAA\\n\\n\\n\\n\\n\\n\\nRegistration History\\n\\n\\n\\nDate\\nOwner\\nLocation\\n\\n\\nDate19-Oct-2017\\nOwnerC C & E I LLC\\nLocationLOUISVILLE KY\\n\\n\\nDate07-Aug-2017\\nOwnerBOEING COMPANY\\nLocationRENTON WA\\n\\n \\n\\n\\nxLoginLoginForgot password?Don't have an account? Register now (free) for customized features, flight alerts, and more!\\n\\t\\t Join FlightAware\\n\\n\\n\\n\\n\\n\\n\\n\\n\\n\\n       FlightAware provides accurate real-time, historical and predictive flight insights to all segments of the\\n        aviation industry.\\n    \\n\\n\\n\\n\\n\\n\\n\\n\\n\\n\\n\\n\\n\\n\\n\\n\\n\\n\\n\\n\\n\\n\\n\\n\\n\\n\\n\\n                Products & Services\\n            \\n\\n\\nAeroAPI\\n\\n\\nFlightAware Firehose\\n\\n\\nFlightAware Foresight\\n\\n\\nRapid Reports\\n\\n\\nCustom Reports\\n\\n\\nFlightAware Aviator\\n\\n\\nPremium Subscriptions\\n\\n\\nFlightAware Global\\n\\n\\nFlightAware FBO Toolbox\\n\\n\\nFlightAware TV℠\\n\\n\\nGlobalBeacon\\n\\n\\n\\n\\n\\n                Company\\n            \\n\\n\\nAbout\\n\\n\\nCareers\\n\\n\\nHistory\\n\\n\\nExecutive Team\\n\\n\\nAdvertise With Us\\n\\n\\nNewsroom\\n\\n\\nBlog\\n\\n\\nWebinars\\n\\n\\nGSA Contract # 47QTCA21D003F\\n\\n\\n\\n\\n\\n                Community\\n            \\n\\n\\nPhotos\\n\\n\\nSquawks\\n\\n\\nDiscussions\\n\\n\\nHost an ADS-B Site\\n\\n\\n\\n                Support\\n            \\n\\n\\nContact Us\\n\\n\\nFAQs\\n\\n\\n\\n\\n\\n\\n            Products & Services\\n        \\n\\n\\n\\n\\n\\n\\nAeroAPI\\n\\n\\nFlightAware Firehose\\n\\n\\nFlightAware Foresight\\n\\n\\nRapid Reports\\n\\n\\nCustom Reports\\n\\n\\nFlightAware Aviator\\n\\n\\nPremium Subscriptions\\n\\n\\nFlightAware Global\\n\\n\\nFlightAware FBO Toolbox\\n\\n\\nFlightAware TV℠\\n\\n\\nGlobalBeacon\\n\\n\\n\\n\\n            Company\\n        \\n\\n\\n\\n\\n\\n\\nAbout\\n\\n\\nCareers\\n\\n\\nHistory\\n\\n\\nExecutive Team\\n\\n\\nAdvertise With Us\\n\\n\\nNewsroom\\n\\n\\nBlog\\n\\n\\nWebinars\\n\\n\\nGSA Contract # 47QTCA21D003F\\n\\n\\n\\n\\n            Community\\n        \\n\\n\\n\\n\\n\\n\\nPhotos\\n\\n\\nSquawks\\n\\n\\nDiscussions\\n\\n\\nHost an ADS-B Site\\n\\n\\n\\n\\n            Support\\n        \\n\\n\\n\\n\\n\\n\\nContact Us\\n\\n\\nFAQs\\n\\n\\n\\n\\n\\n\\n\\n\\n            English (USA)\\n            \\n\\n\\n\\n\\n\\n\\n                    العربية\\n                \\n\\n\\n\\n\\n                    Čeština\\n                \\n\\n\\n\\n\\n                    Deutsch\\n                \\n\\n\\n\\n\\n                    English (Australia)\\n                \\n\\n\\n\\n\\n                    English (Canada)\\n                \\n\\n\\n\\n\\n                    English (UK)\\n                \\n\\n\\n\\n\\n                    English (USA)\\n                \\n\\n\\n\\n\\n                    Español (España)\\n                \\n\\n\\n\\n\\n                    Español\\n                \\n\\n\\n\\n\\n                    Suomi\\n                \\n\\n\\n\\n\\n                    Français (Canada)\\n                \\n\\n\\n\\n\\n                    Français (France)\\n                \\n\\n\\n\\n\\n                    עִבְרִית\\n                \\n\\n\\n\\n\\n                    हिन्दी\\n                \\n\\n\\n\\n\\n                    Hrvatski\\n                \\n\\n\\n\\n\\n                    Italiano\\n                \\n\\n\\n\\n\\n                    Italiano\\n                \\n\\n\\n\\n\\n                    日本語\\n                \\n\\n\\n\\n\\n                    한국어\\n                \\n\\n\\n\\n\\n                    Polski\\n                \\n\\n\\n\\n\\n                    Português (Brasil)\\n                \\n\\n\\n\\n\\n                    Português (Portugal)\\n                \\n\\n\\n\\n\\n                    Русский\\n                \\n\\n\\n\\n\\n                    Türkçe\\n                \\n\\n\\n\\n\\n                    中文(简体)\\n                \\n\\n\\n\\n\\n                    中文(香港)\\n                \\n\\n\\n\\n\\n                    中文(台灣)\\n                \\n\\n\\n\\n\\n\\n 2024 FlightAware\\n    \\n\\nTerms of Use\\n\\n\\nPrivacy\\n\\n\\nCookie Settings\\n\\n\\n\\n\\n\\n\\n\\n\\n\\n\\n\\n\\n\\n\\n\\n\\n\\n\\n\\n\\n\\n\\n\\n\\n \\n\\n\\n\\nYour browser is unsupported. upgrade your browser\\n\\n\\n\\n\\n\\n\\nDid you know that FlightAware flight tracking is supported by advertising?\\nYou can help us keep FlightAware free by allowing ads from FlightAware.com. We work hard to keep our advertising relevant and unobtrusive to create a great experience. It's quick and easy to whitelist ads on FlightAware or please consider our premium accounts.\\n\\nDismiss\\n\\n\\nSearching...FlightAware uses cookies to keep our site free, enhance your experience, and to analyze performance and traffic. By clicking “Allow All”, you agree to storing cookies on your device.Privacy StatementCookie Settings Allow AllYour Cookie SettingsYour PrivacyNecessary CookiesPreference CookiesThird-Party CookiesYour PrivacyThis section allows you to manage the various cookies we use to personalize your experience on your website. You may choose which cookies to allow and may change your settings at a later time by visiting our Privacy page.\\n            More informationNecessary CookiesAlways ActiveThese cookies are necessary to ensure our site's core functionality, and we cannot turn them off within the site. They are part of our default settings. They include security, accessibility, page loading, and overall responsiveness and network management. While you may disable these by changing your browser's settings, your changes might affect how the site functions.Cookies Details\\u200ePreference Cookies  Preference Cookies These cookies indicate your preferences for your onsite experience and will remember the choices you make on the site. You can choose to opt in to keep these or opt out to deactivate them.Cookies Details\\u200eThird-Party Cookies  Third-Party Cookies These cookies are not controlled by this site and are set by a website other than flightaware.com. They are usually set by various social media platforms, along with marketers and advertisers from sites you have visited. You cannot turn these cookies off within flightaware.com. Instead you must go directly to those sites to disable them.Cookies Details\\u200eBack ButtonCookie List Filter ButtonConsent Leg.Interest checkbox label label checkbox label label checkbox label labelClear checkbox label labelApply CancelConfirm My ChoicesReject All Allow All\\n\\n\\n\\n\\n\\n\\n\\n\\n\\n\\n\""
      ]
     },
     "execution_count": 29,
     "metadata": {},
     "output_type": "execute_result"
    }
   ],
   "source": [
    "# soup = BeautifulSoup(html_text, 'lxml')\n",
    "soup = BeautifulSoup(dr.page_source,\"lxml\")\n",
    "soup.text"
   ]
  },
  {
   "cell_type": "code",
   "execution_count": 30,
   "metadata": {},
   "outputs": [],
   "source": [
    "info = soup.find('div', class_=\"pageContainer\")\n",
    "f = info.findAll('div', class_='row attribute-row')"
   ]
  },
  {
   "cell_type": "code",
   "execution_count": 31,
   "metadata": {},
   "outputs": [],
   "source": [
    "def remove_delimiters(word):\n",
    "    h = []\n",
    "    for i in word:\n",
    "        if i != '\\n' and i != '\\t':\n",
    "            h.append(i)\n",
    "    return \"\".join(h)"
   ]
  },
  {
   "cell_type": "code",
   "execution_count": 32,
   "metadata": {},
   "outputs": [
    {
     "data": {
      "text/plain": [
       "{'Summary': '2017 BOEING 747-8F Fixed wing multi engine (8 seats / 4 engines)',\n",
       " 'Owner': 'C C & E I LLC LOUISVILLE , KY, US ',\n",
       " 'Airworthiness Class': 'Standard/Transport',\n",
       " 'Serial Number': '64265',\n",
       " 'Engine': 'GE GENX-2B67/P (Turbo-fan)Thrust: 67400lbs',\n",
       " 'Weight': 'Over 20,000lbs',\n",
       " 'Speed': 'Not defined',\n",
       " 'Mode S Code': '051761420 / A7E310',\n",
       " 'Status': 'Assigned',\n",
       " 'Certificate Issue Date': '2017-10-19',\n",
       " 'Airworthiness Date': '2017-10-15',\n",
       " 'Last Action Date': '2020-06-01',\n",
       " 'Expiration': '2023-10-31',\n",
       " 'Registry Source': 'FAA'}"
      ]
     },
     "execution_count": 32,
     "metadata": {},
     "output_type": "execute_result"
    }
   ],
   "source": [
    "d = {}\n",
    "for flight_number_info in f:\n",
    "    d[flight_number_info.find('div', class_='medium-1 columns title-text').text] = remove_delimiters(flight_number_info.find('div', class_='medium-3 columns').text.replace('\\n', ' '))\n",
    "\n",
    "d"
   ]
  },
  {
   "cell_type": "markdown",
   "metadata": {},
   "source": [
    "### Further Information"
   ]
  },
  {
   "cell_type": "code",
   "execution_count": 38,
   "metadata": {},
   "outputs": [],
   "source": [
    "ac2 = aircraft_code.upper()\n",
    "# req = requests.get(\"https://www.flightera.net/en/planes/\"+ac2, headers=HEADERS)\n",
    "# html_text = req.content\n",
    "dr.get(\"https://www.flightera.net/en/planes/\"+ac2)\n",
    "soup2 = BeautifulSoup(dr.page_source,\"lxml\")"
   ]
  },
  {
   "cell_type": "code",
   "execution_count": 41,
   "metadata": {},
   "outputs": [
    {
     "name": "stdout",
     "output_type": "stream",
     "text": [
      "Aircraft - N607UP: United Parcel Service (UPS) Boeing B747-800\n"
     ]
    }
   ],
   "source": [
    "# if req.status_code < 300:\n",
    "# soup2 = BeautifulSoup(html_text, 'lxml')\n",
    "info2 = soup2.find('div', class_='py-10 max-w-5xl mx-auto')\n",
    "f = info2.find('div', class_='max-w-7xl mx-auto px-4 sm:px-6 lg:px-8')\n",
    "g = f.find('h1',class_='text-xl font-bold leading-tight text-gray-900 dark:text-white').text\n",
    "\n",
    "print('Aircraft - ' + remove_delimiters(g))\n",
    "# else:\n",
    "#     print(\"Not Available\")"
   ]
  },
  {
   "cell_type": "code",
   "execution_count": 71,
   "metadata": {},
   "outputs": [
    {
     "data": {
      "text/html": [
       "<div>\n",
       "<style scoped>\n",
       "    .dataframe tbody tr th:only-of-type {\n",
       "        vertical-align: middle;\n",
       "    }\n",
       "\n",
       "    .dataframe tbody tr th {\n",
       "        vertical-align: top;\n",
       "    }\n",
       "\n",
       "    .dataframe thead th {\n",
       "        text-align: right;\n",
       "    }\n",
       "</style>\n",
       "<table border=\"1\" class=\"dataframe\">\n",
       "  <thead>\n",
       "    <tr style=\"text-align: right;\">\n",
       "      <th></th>\n",
       "      <th>DATE</th>\n",
       "      <th>FLIGHT NUMBER</th>\n",
       "      <th>FROM</th>\n",
       "      <th>TO</th>\n",
       "      <th>DEPARTED</th>\n",
       "      <th>ARRIVED</th>\n",
       "      <th>Unnamed: 6</th>\n",
       "    </tr>\n",
       "  </thead>\n",
       "  <tbody>\n",
       "    <tr>\n",
       "      <th>0</th>\n",
       "      <td>11. Jan  Landed</td>\n",
       "      <td>5X2998</td>\n",
       "      <td>Louisville  15min late Louisville (SDF / KSDF)...</td>\n",
       "      <td>Anchorage  17min early Anchorage (ANC / PANC) ...</td>\n",
       "      <td>17:09  15min late</td>\n",
       "      <td>19:26  17min early</td>\n",
       "      <td>NaN</td>\n",
       "    </tr>\n",
       "    <tr>\n",
       "      <th>1</th>\n",
       "      <td>11. Jan  Landed</td>\n",
       "      <td>5X2751</td>\n",
       "      <td>Dallas  10min late Dallas (DFW / KDFW)  08:29 CST</td>\n",
       "      <td>Louisville  16min early Louisville (SDF / KSDF...</td>\n",
       "      <td>08:39  10min late</td>\n",
       "      <td>11:00  16min early</td>\n",
       "      <td>NaN</td>\n",
       "    </tr>\n",
       "    <tr>\n",
       "      <th>2</th>\n",
       "      <td>11. Jan  Landed</td>\n",
       "      <td>5X752</td>\n",
       "      <td>Louisville  32min late Louisville (SDF / KSDF)...</td>\n",
       "      <td>Dallas  18min late Dallas (DFW / KDFW)  04:39 CST</td>\n",
       "      <td>04:09  32min late</td>\n",
       "      <td>04:57  18min late</td>\n",
       "      <td>NaN</td>\n",
       "    </tr>\n",
       "    <tr>\n",
       "      <th>3</th>\n",
       "      <td>10. Jan  Landed</td>\n",
       "      <td>5X63</td>\n",
       "      <td>Anchorage  20min late Anchorage (ANC / PANC)  ...</td>\n",
       "      <td>Louisville  13min late Louisville (SDF / KSDF)...</td>\n",
       "      <td>15:02  20min late</td>\n",
       "      <td>00:51  13min late</td>\n",
       "      <td>NaN</td>\n",
       "    </tr>\n",
       "    <tr>\n",
       "      <th>4</th>\n",
       "      <td>10. Jan  Landed</td>\n",
       "      <td>5X63</td>\n",
       "      <td>Hong Kong  22min late Hong Kong (HKG / VHHH)  ...</td>\n",
       "      <td>Anchorage  9min early Anchorage (ANC / PANC)  ...</td>\n",
       "      <td>20:42  22min late</td>\n",
       "      <td>12:33  9min early</td>\n",
       "      <td>NaN</td>\n",
       "    </tr>\n",
       "  </tbody>\n",
       "</table>\n",
       "</div>"
      ],
      "text/plain": [
       "              DATE FLIGHT NUMBER  \\\n",
       "0  11. Jan  Landed        5X2998   \n",
       "1  11. Jan  Landed        5X2751   \n",
       "2  11. Jan  Landed         5X752   \n",
       "3  10. Jan  Landed          5X63   \n",
       "4  10. Jan  Landed          5X63   \n",
       "\n",
       "                                                FROM  \\\n",
       "0  Louisville  15min late Louisville (SDF / KSDF)...   \n",
       "1  Dallas  10min late Dallas (DFW / KDFW)  08:29 CST   \n",
       "2  Louisville  32min late Louisville (SDF / KSDF)...   \n",
       "3  Anchorage  20min late Anchorage (ANC / PANC)  ...   \n",
       "4  Hong Kong  22min late Hong Kong (HKG / VHHH)  ...   \n",
       "\n",
       "                                                  TO           DEPARTED  \\\n",
       "0  Anchorage  17min early Anchorage (ANC / PANC) ...  17:09  15min late   \n",
       "1  Louisville  16min early Louisville (SDF / KSDF...  08:39  10min late   \n",
       "2  Dallas  18min late Dallas (DFW / KDFW)  04:39 CST  04:09  32min late   \n",
       "3  Louisville  13min late Louisville (SDF / KSDF)...  15:02  20min late   \n",
       "4  Anchorage  9min early Anchorage (ANC / PANC)  ...  20:42  22min late   \n",
       "\n",
       "              ARRIVED  Unnamed: 6  \n",
       "0  19:26  17min early         NaN  \n",
       "1  11:00  16min early         NaN  \n",
       "2   04:57  18min late         NaN  \n",
       "3   00:51  13min late         NaN  \n",
       "4   12:33  9min early         NaN  "
      ]
     },
     "metadata": {},
     "output_type": "display_data"
    }
   ],
   "source": [
    "import pandas as pd\n",
    "# if req.status_code < 300:\n",
    "tables = pd.read_html(dr.page_source)\n",
    "df0 = tables[0]\n",
    "df0.rename(columns={0:\"\", 1:\"Information\"}, inplace=True)\n",
    "display(df0)\n",
    "# else:\n",
    "#     print(\"Not Available\")"
   ]
  },
  {
   "cell_type": "code",
   "execution_count": 55,
   "metadata": {},
   "outputs": [
    {
     "name": "stdout",
     "output_type": "stream",
     "text": [
      "AIRLINE: United Parcel Service (UPS) \n",
      "5X/UPS\n",
      "STATUS: Active\n",
      "ICAO IDENTIFIER: A7E310\n",
      "SEAT CONFIGURATION: Cargo\n",
      "MANUFACTURER: Boeing\n",
      "MODEL: B747-8F (B748)\n",
      "ENGINES: 4 x GEnx-2B67\n",
      "FIRST FLIGHT: Oct 2017 (6 years ago)\n"
     ]
    }
   ],
   "source": [
    "# if req.status_code < 300:\n",
    "\n",
    "info3 = soup2.find('div', 'bg-white dark:bg-gray-500 shadow overflow-hidden sm:rounded-lg mx-auto p-3')\n",
    "info_grids = info3.find('dl', class_='grid gap-x-4 gap-y-4 grid-cols-2 lg:grid-cols-3')\n",
    "aircraft_info = info_grids.find_all('div', class_='col-span-1 dark:bg-gray-400 bg-gray-100 rounded-lg p-4 shadow text-center text-sm leading-5')\n",
    "\n",
    "d = {}\n",
    "for information in aircraft_info:\n",
    "    k = information.find('dt', class_='font-bold text-gray-500 dark:text-gray-700')\n",
    "    v = information.find('dd', class_='text-gray-900 dark:text-white')\n",
    "    # d = dict(zip(k, v))\n",
    "    if k.text.strip() != 'PICTURE':\n",
    "        d[k] = v\n",
    "\n",
    "for origin, v in d.items():\n",
    "    print(f\"{origin.text.strip()}: {v.text.strip()}\")\n",
    "\n",
    "\n",
    "\n",
    "# else:\n",
    "#     print(\"Not Available\")"
   ]
  },
  {
   "cell_type": "markdown",
   "metadata": {},
   "source": [
    "### Past Flights (If any):"
   ]
  },
  {
   "cell_type": "code",
   "execution_count": 58,
   "metadata": {},
   "outputs": [
    {
     "data": {
      "text/plain": [
       "[              DATE FLIGHT NUMBER  \\\n",
       " 0  11. Jan  Landed        5X2998   \n",
       " 1  11. Jan  Landed        5X2751   \n",
       " 2  11. Jan  Landed         5X752   \n",
       " 3  10. Jan  Landed          5X63   \n",
       " 4  10. Jan  Landed          5X63   \n",
       " \n",
       "                                                 FROM  \\\n",
       " 0  Louisville  15min late Louisville (SDF / KSDF)...   \n",
       " 1  Dallas  10min late Dallas (DFW / KDFW)  08:29 CST   \n",
       " 2  Louisville  32min late Louisville (SDF / KSDF)...   \n",
       " 3  Anchorage  20min late Anchorage (ANC / PANC)  ...   \n",
       " 4  Hong Kong  22min late Hong Kong (HKG / VHHH)  ...   \n",
       " \n",
       "                                                   TO           DEPARTED  \\\n",
       " 0  Anchorage  17min early Anchorage (ANC / PANC) ...  17:09  15min late   \n",
       " 1  Louisville  16min early Louisville (SDF / KSDF...  08:39  10min late   \n",
       " 2  Dallas  18min late Dallas (DFW / KDFW)  04:39 CST  04:09  32min late   \n",
       " 3  Louisville  13min late Louisville (SDF / KSDF)...  15:02  20min late   \n",
       " 4  Anchorage  9min early Anchorage (ANC / PANC)  ...  20:42  22min late   \n",
       " \n",
       "               ARRIVED  Unnamed: 6  \n",
       " 0  19:26  17min early         NaN  \n",
       " 1  11:00  16min early         NaN  \n",
       " 2   04:57  18min late         NaN  \n",
       " 3   00:51  13min late         NaN  \n",
       " 4   12:33  9min early         NaN  ]"
      ]
     },
     "execution_count": 58,
     "metadata": {},
     "output_type": "execute_result"
    }
   ],
   "source": [
    "tables"
   ]
  },
  {
   "cell_type": "code",
   "execution_count": 61,
   "metadata": {},
   "outputs": [
    {
     "data": {
      "text/html": [
       "<div>\n",
       "<style scoped>\n",
       "    .dataframe tbody tr th:only-of-type {\n",
       "        vertical-align: middle;\n",
       "    }\n",
       "\n",
       "    .dataframe tbody tr th {\n",
       "        vertical-align: top;\n",
       "    }\n",
       "\n",
       "    .dataframe thead th {\n",
       "        text-align: right;\n",
       "    }\n",
       "</style>\n",
       "<table border=\"1\" class=\"dataframe\">\n",
       "  <thead>\n",
       "    <tr style=\"text-align: right;\">\n",
       "      <th></th>\n",
       "      <th>DATE</th>\n",
       "      <th>FLIGHT NUMBER</th>\n",
       "      <th>FROM</th>\n",
       "      <th>TO</th>\n",
       "      <th>DEPARTED</th>\n",
       "      <th>ARRIVED</th>\n",
       "    </tr>\n",
       "  </thead>\n",
       "  <tbody>\n",
       "    <tr>\n",
       "      <th>0</th>\n",
       "      <td>11. Jan  Landed</td>\n",
       "      <td>5X2998</td>\n",
       "      <td>Louisville  15min late Louisville (SDF / KSDF)</td>\n",
       "      <td>Anchorage  17min early Anchorage (ANC / PANC)</td>\n",
       "      <td>17:09  15min late</td>\n",
       "      <td>19:26  17min early</td>\n",
       "    </tr>\n",
       "    <tr>\n",
       "      <th>1</th>\n",
       "      <td>11. Jan  Landed</td>\n",
       "      <td>5X2751</td>\n",
       "      <td>Dallas  10min late Dallas (DFW / KDFW)</td>\n",
       "      <td>Louisville  16min early Louisville (SDF / KSDF)</td>\n",
       "      <td>08:39  10min late</td>\n",
       "      <td>11:00  16min early</td>\n",
       "    </tr>\n",
       "    <tr>\n",
       "      <th>2</th>\n",
       "      <td>11. Jan  Landed</td>\n",
       "      <td>5X752</td>\n",
       "      <td>Louisville  32min late Louisville (SDF / KSDF)</td>\n",
       "      <td>Dallas  18min late Dallas (DFW / KDFW)</td>\n",
       "      <td>04:09  32min late</td>\n",
       "      <td>04:57  18min late</td>\n",
       "    </tr>\n",
       "    <tr>\n",
       "      <th>3</th>\n",
       "      <td>10. Jan  Landed</td>\n",
       "      <td>5X63</td>\n",
       "      <td>Anchorage  20min late Anchorage (ANC / PANC)</td>\n",
       "      <td>Louisville  13min late Louisville (SDF / KSDF)</td>\n",
       "      <td>15:02  20min late</td>\n",
       "      <td>00:51  13min late</td>\n",
       "    </tr>\n",
       "    <tr>\n",
       "      <th>4</th>\n",
       "      <td>10. Jan  Landed</td>\n",
       "      <td>5X63</td>\n",
       "      <td>Hong Kong  22min late Hong Kong (HKG / VHHH)</td>\n",
       "      <td>Anchorage  9min early Anchorage (ANC / PANC)</td>\n",
       "      <td>20:42  22min late</td>\n",
       "      <td>12:33  9min early</td>\n",
       "    </tr>\n",
       "  </tbody>\n",
       "</table>\n",
       "</div>"
      ],
      "text/plain": [
       "              DATE FLIGHT NUMBER  \\\n",
       "0  11. Jan  Landed        5X2998   \n",
       "1  11. Jan  Landed        5X2751   \n",
       "2  11. Jan  Landed         5X752   \n",
       "3  10. Jan  Landed          5X63   \n",
       "4  10. Jan  Landed          5X63   \n",
       "\n",
       "                                             FROM  \\\n",
       "0  Louisville  15min late Louisville (SDF / KSDF)   \n",
       "1          Dallas  10min late Dallas (DFW / KDFW)   \n",
       "2  Louisville  32min late Louisville (SDF / KSDF)   \n",
       "3    Anchorage  20min late Anchorage (ANC / PANC)   \n",
       "4    Hong Kong  22min late Hong Kong (HKG / VHHH)   \n",
       "\n",
       "                                                TO           DEPARTED  \\\n",
       "0    Anchorage  17min early Anchorage (ANC / PANC)  17:09  15min late   \n",
       "1  Louisville  16min early Louisville (SDF / KSDF)  08:39  10min late   \n",
       "2           Dallas  18min late Dallas (DFW / KDFW)  04:09  32min late   \n",
       "3   Louisville  13min late Louisville (SDF / KSDF)  15:02  20min late   \n",
       "4     Anchorage  9min early Anchorage (ANC / PANC)  20:42  22min late   \n",
       "\n",
       "              ARRIVED  \n",
       "0  19:26  17min early  \n",
       "1  11:00  16min early  \n",
       "2   04:57  18min late  \n",
       "3   00:51  13min late  \n",
       "4   12:33  9min early  "
      ]
     },
     "metadata": {},
     "output_type": "display_data"
    }
   ],
   "source": [
    "if len(tables) <= 0:\n",
    "    print(\"No past flights found\")\n",
    "else:\n",
    "    df1 = tables[0].iloc[:,:-1]\n",
    "    if 'TO' in df1.keys().tolist():\n",
    "        flight_number_info=0\n",
    "        for item in df1['FROM']:\n",
    "            l = []\n",
    "            for le in item:\n",
    "                l.append(le)\n",
    "                if le == ')':\n",
    "                    break\n",
    "            df1['FROM'][flight_number_info] = \"\".join(l)\n",
    "            flight_number_info+=1\n",
    "\n",
    "        flight_number_info=0\n",
    "        for item in df1['TO']:\n",
    "            l = []\n",
    "            for le in item:\n",
    "                l.append(le)\n",
    "                if le == ')':\n",
    "                    break\n",
    "            df1['TO'][flight_number_info] = \"\".join(l)\n",
    "            flight_number_info+=1\n",
    "        display(df1)\n",
    "    else:\n",
    "        print(\"No past flights found\")\n"
   ]
  },
  {
   "cell_type": "markdown",
   "metadata": {},
   "source": [
    "### Images, If available"
   ]
  },
  {
   "cell_type": "code",
   "execution_count": 62,
   "metadata": {},
   "outputs": [
    {
     "ename": "HTTPError",
     "evalue": "HTTP Error 403: Forbidden",
     "output_type": "error",
     "traceback": [
      "\u001b[1;31m---------------------------------------------------------------------------\u001b[0m",
      "\u001b[1;31mHTTPError\u001b[0m                                 Traceback (most recent call last)",
      "Cell \u001b[1;32mIn[62], line 12\u001b[0m\n\u001b[0;32m      9\u001b[0m     links\u001b[38;5;241m.\u001b[39mappend(tag[\u001b[38;5;124m'\u001b[39m\u001b[38;5;124msrc\u001b[39m\u001b[38;5;124m'\u001b[39m])\n\u001b[0;32m     11\u001b[0m \u001b[38;5;28;01mfor\u001b[39;00m link \u001b[38;5;129;01min\u001b[39;00m links:\n\u001b[1;32m---> 12\u001b[0m     \u001b[43murllib\u001b[49m\u001b[38;5;241;43m.\u001b[39;49m\u001b[43mrequest\u001b[49m\u001b[38;5;241;43m.\u001b[39;49m\u001b[43murlretrieve\u001b[49m\u001b[43m(\u001b[49m\n\u001b[0;32m     13\u001b[0m \u001b[43m    \u001b[49m\u001b[43mlink\u001b[49m\u001b[43m,\u001b[49m\u001b[38;5;124;43m\"\u001b[39;49m\u001b[38;5;124;43m_most_recent_aircraft_image.png\u001b[39;49m\u001b[38;5;124;43m\"\u001b[39;49m\u001b[43m)\u001b[49m\n\u001b[0;32m     14\u001b[0m     img \u001b[38;5;241m=\u001b[39m Image\u001b[38;5;241m.\u001b[39mopen(\u001b[38;5;124m\"\u001b[39m\u001b[38;5;124m_most_recent_aircraft_image.png\u001b[39m\u001b[38;5;124m\"\u001b[39m)\n\u001b[0;32m     15\u001b[0m     plt\u001b[38;5;241m.\u001b[39mfigure(figsize\u001b[38;5;241m=\u001b[39m(\u001b[38;5;241m2\u001b[39m,\u001b[38;5;241m1\u001b[39m))\n",
      "File \u001b[1;32mc:\\Users\\areen\\anaconda3\\lib\\urllib\\request.py:239\u001b[0m, in \u001b[0;36murlretrieve\u001b[1;34m(url, filename, reporthook, data)\u001b[0m\n\u001b[0;32m    222\u001b[0m \u001b[38;5;250m\u001b[39m\u001b[38;5;124;03m\"\"\"\u001b[39;00m\n\u001b[0;32m    223\u001b[0m \u001b[38;5;124;03mRetrieve a URL into a temporary location on disk.\u001b[39;00m\n\u001b[0;32m    224\u001b[0m \n\u001b[1;32m   (...)\u001b[0m\n\u001b[0;32m    235\u001b[0m \u001b[38;5;124;03mdata file as well as the resulting HTTPMessage object.\u001b[39;00m\n\u001b[0;32m    236\u001b[0m \u001b[38;5;124;03m\"\"\"\u001b[39;00m\n\u001b[0;32m    237\u001b[0m url_type, path \u001b[38;5;241m=\u001b[39m _splittype(url)\n\u001b[1;32m--> 239\u001b[0m \u001b[38;5;28;01mwith\u001b[39;00m contextlib\u001b[38;5;241m.\u001b[39mclosing(\u001b[43murlopen\u001b[49m\u001b[43m(\u001b[49m\u001b[43murl\u001b[49m\u001b[43m,\u001b[49m\u001b[43m \u001b[49m\u001b[43mdata\u001b[49m\u001b[43m)\u001b[49m) \u001b[38;5;28;01mas\u001b[39;00m fp:\n\u001b[0;32m    240\u001b[0m     headers \u001b[38;5;241m=\u001b[39m fp\u001b[38;5;241m.\u001b[39minfo()\n\u001b[0;32m    242\u001b[0m     \u001b[38;5;66;03m# Just return the local path and the \"headers\" for file://\u001b[39;00m\n\u001b[0;32m    243\u001b[0m     \u001b[38;5;66;03m# URLs. No sense in performing a copy unless requested.\u001b[39;00m\n",
      "File \u001b[1;32mc:\\Users\\areen\\anaconda3\\lib\\urllib\\request.py:214\u001b[0m, in \u001b[0;36murlopen\u001b[1;34m(url, data, timeout, cafile, capath, cadefault, context)\u001b[0m\n\u001b[0;32m    212\u001b[0m \u001b[38;5;28;01melse\u001b[39;00m:\n\u001b[0;32m    213\u001b[0m     opener \u001b[38;5;241m=\u001b[39m _opener\n\u001b[1;32m--> 214\u001b[0m \u001b[38;5;28;01mreturn\u001b[39;00m \u001b[43mopener\u001b[49m\u001b[38;5;241;43m.\u001b[39;49m\u001b[43mopen\u001b[49m\u001b[43m(\u001b[49m\u001b[43murl\u001b[49m\u001b[43m,\u001b[49m\u001b[43m \u001b[49m\u001b[43mdata\u001b[49m\u001b[43m,\u001b[49m\u001b[43m \u001b[49m\u001b[43mtimeout\u001b[49m\u001b[43m)\u001b[49m\n",
      "File \u001b[1;32mc:\\Users\\areen\\anaconda3\\lib\\urllib\\request.py:523\u001b[0m, in \u001b[0;36mOpenerDirector.open\u001b[1;34m(self, fullurl, data, timeout)\u001b[0m\n\u001b[0;32m    521\u001b[0m \u001b[38;5;28;01mfor\u001b[39;00m processor \u001b[38;5;129;01min\u001b[39;00m \u001b[38;5;28mself\u001b[39m\u001b[38;5;241m.\u001b[39mprocess_response\u001b[38;5;241m.\u001b[39mget(protocol, []):\n\u001b[0;32m    522\u001b[0m     meth \u001b[38;5;241m=\u001b[39m \u001b[38;5;28mgetattr\u001b[39m(processor, meth_name)\n\u001b[1;32m--> 523\u001b[0m     response \u001b[38;5;241m=\u001b[39m \u001b[43mmeth\u001b[49m\u001b[43m(\u001b[49m\u001b[43mreq\u001b[49m\u001b[43m,\u001b[49m\u001b[43m \u001b[49m\u001b[43mresponse\u001b[49m\u001b[43m)\u001b[49m\n\u001b[0;32m    525\u001b[0m \u001b[38;5;28;01mreturn\u001b[39;00m response\n",
      "File \u001b[1;32mc:\\Users\\areen\\anaconda3\\lib\\urllib\\request.py:632\u001b[0m, in \u001b[0;36mHTTPErrorProcessor.http_response\u001b[1;34m(self, request, response)\u001b[0m\n\u001b[0;32m    629\u001b[0m \u001b[38;5;66;03m# According to RFC 2616, \"2xx\" code indicates that the client's\u001b[39;00m\n\u001b[0;32m    630\u001b[0m \u001b[38;5;66;03m# request was successfully received, understood, and accepted.\u001b[39;00m\n\u001b[0;32m    631\u001b[0m \u001b[38;5;28;01mif\u001b[39;00m \u001b[38;5;129;01mnot\u001b[39;00m (\u001b[38;5;241m200\u001b[39m \u001b[38;5;241m<\u001b[39m\u001b[38;5;241m=\u001b[39m code \u001b[38;5;241m<\u001b[39m \u001b[38;5;241m300\u001b[39m):\n\u001b[1;32m--> 632\u001b[0m     response \u001b[38;5;241m=\u001b[39m \u001b[38;5;28;43mself\u001b[39;49m\u001b[38;5;241;43m.\u001b[39;49m\u001b[43mparent\u001b[49m\u001b[38;5;241;43m.\u001b[39;49m\u001b[43merror\u001b[49m\u001b[43m(\u001b[49m\n\u001b[0;32m    633\u001b[0m \u001b[43m        \u001b[49m\u001b[38;5;124;43m'\u001b[39;49m\u001b[38;5;124;43mhttp\u001b[39;49m\u001b[38;5;124;43m'\u001b[39;49m\u001b[43m,\u001b[49m\u001b[43m \u001b[49m\u001b[43mrequest\u001b[49m\u001b[43m,\u001b[49m\u001b[43m \u001b[49m\u001b[43mresponse\u001b[49m\u001b[43m,\u001b[49m\u001b[43m \u001b[49m\u001b[43mcode\u001b[49m\u001b[43m,\u001b[49m\u001b[43m \u001b[49m\u001b[43mmsg\u001b[49m\u001b[43m,\u001b[49m\u001b[43m \u001b[49m\u001b[43mhdrs\u001b[49m\u001b[43m)\u001b[49m\n\u001b[0;32m    635\u001b[0m \u001b[38;5;28;01mreturn\u001b[39;00m response\n",
      "File \u001b[1;32mc:\\Users\\areen\\anaconda3\\lib\\urllib\\request.py:561\u001b[0m, in \u001b[0;36mOpenerDirector.error\u001b[1;34m(self, proto, *args)\u001b[0m\n\u001b[0;32m    559\u001b[0m \u001b[38;5;28;01mif\u001b[39;00m http_err:\n\u001b[0;32m    560\u001b[0m     args \u001b[38;5;241m=\u001b[39m (\u001b[38;5;28mdict\u001b[39m, \u001b[38;5;124m'\u001b[39m\u001b[38;5;124mdefault\u001b[39m\u001b[38;5;124m'\u001b[39m, \u001b[38;5;124m'\u001b[39m\u001b[38;5;124mhttp_error_default\u001b[39m\u001b[38;5;124m'\u001b[39m) \u001b[38;5;241m+\u001b[39m orig_args\n\u001b[1;32m--> 561\u001b[0m     \u001b[38;5;28;01mreturn\u001b[39;00m \u001b[38;5;28;43mself\u001b[39;49m\u001b[38;5;241;43m.\u001b[39;49m\u001b[43m_call_chain\u001b[49m\u001b[43m(\u001b[49m\u001b[38;5;241;43m*\u001b[39;49m\u001b[43margs\u001b[49m\u001b[43m)\u001b[49m\n",
      "File \u001b[1;32mc:\\Users\\areen\\anaconda3\\lib\\urllib\\request.py:494\u001b[0m, in \u001b[0;36mOpenerDirector._call_chain\u001b[1;34m(self, chain, kind, meth_name, *args)\u001b[0m\n\u001b[0;32m    492\u001b[0m \u001b[38;5;28;01mfor\u001b[39;00m handler \u001b[38;5;129;01min\u001b[39;00m handlers:\n\u001b[0;32m    493\u001b[0m     func \u001b[38;5;241m=\u001b[39m \u001b[38;5;28mgetattr\u001b[39m(handler, meth_name)\n\u001b[1;32m--> 494\u001b[0m     result \u001b[38;5;241m=\u001b[39m \u001b[43mfunc\u001b[49m\u001b[43m(\u001b[49m\u001b[38;5;241;43m*\u001b[39;49m\u001b[43margs\u001b[49m\u001b[43m)\u001b[49m\n\u001b[0;32m    495\u001b[0m     \u001b[38;5;28;01mif\u001b[39;00m result \u001b[38;5;129;01mis\u001b[39;00m \u001b[38;5;129;01mnot\u001b[39;00m \u001b[38;5;28;01mNone\u001b[39;00m:\n\u001b[0;32m    496\u001b[0m         \u001b[38;5;28;01mreturn\u001b[39;00m result\n",
      "File \u001b[1;32mc:\\Users\\areen\\anaconda3\\lib\\urllib\\request.py:641\u001b[0m, in \u001b[0;36mHTTPDefaultErrorHandler.http_error_default\u001b[1;34m(self, req, fp, code, msg, hdrs)\u001b[0m\n\u001b[0;32m    640\u001b[0m \u001b[38;5;28;01mdef\u001b[39;00m \u001b[38;5;21mhttp_error_default\u001b[39m(\u001b[38;5;28mself\u001b[39m, req, fp, code, msg, hdrs):\n\u001b[1;32m--> 641\u001b[0m     \u001b[38;5;28;01mraise\u001b[39;00m HTTPError(req\u001b[38;5;241m.\u001b[39mfull_url, code, msg, hdrs, fp)\n",
      "\u001b[1;31mHTTPError\u001b[0m: HTTP Error 403: Forbidden"
     ]
    }
   ],
   "source": [
    "import urllib.request\n",
    "from PIL import Image\n",
    "import matplotlib.pyplot as plt\n",
    "import cv2\n",
    "image_tags = info.findAll('img')\n",
    "links = []\n",
    "\n",
    "for tag in image_tags:\n",
    "    links.append(tag['src'])\n",
    "\n",
    "for link in links:\n",
    "    urllib.request.urlretrieve(\n",
    "    link,\"_most_recent_aircraft_image.png\")\n",
    "    img = Image.open(\"_most_recent_aircraft_image.png\")\n",
    "    plt.figure(figsize=(2,1))\n",
    "    plt.imshow(img)\n"
   ]
  },
  {
   "cell_type": "markdown",
   "metadata": {},
   "source": [
    "### Better Image Below"
   ]
  },
  {
   "cell_type": "code",
   "execution_count": 63,
   "metadata": {},
   "outputs": [],
   "source": [
    "import json\n",
    "\n",
    "js = requests.get(\"https://api.planespotters.net/pub/photos/reg/\"+aircraft_code)\n",
    "js.text\n",
    "data = json.loads(js.text)\n"
   ]
  },
  {
   "cell_type": "code",
   "execution_count": 64,
   "metadata": {},
   "outputs": [],
   "source": [
    "if len(data['photos']) > 0:\n",
    "    data['photos'][0]['thumbnail_large']['src']"
   ]
  },
  {
   "cell_type": "code",
   "execution_count": 65,
   "metadata": {},
   "outputs": [
    {
     "data": {
      "image/png": "[encoded data removed]",
      "text/plain": [
       "<Figure size 600x400 with 1 Axes>"
      ]
     },
     "metadata": {},
     "output_type": "display_data"
    }
   ],
   "source": [
    "if len(data['photos']) > 0:\n",
    "    urllib.request.urlretrieve(data['photos'][0]['thumbnail_large']['src'],\"_most_recent_aircraft_image.png\")\n",
    "    img = Image.open(\"_most_recent_aircraft_image.png\")\n",
    "    plt.figure(figsize=(6,4))\n",
    "    plt.imshow(img)\n",
    "    plt.show()\n",
    "else:\n",
    "    print(\"Not Available\")"
   ]
  },
  {
   "cell_type": "markdown",
   "metadata": {},
   "source": [
    "### Flight Number Lookup"
   ]
  },
  {
   "cell_type": "code",
   "execution_count": 66,
   "metadata": {},
   "outputs": [],
   "source": [
    "from requests.adapters import HTTPAdapter\n",
    "from urllib3.util.retry import Retry\n",
    "\n",
    "\n",
    "def get_website(site_link, reg_no):\n",
    "    session = requests.Session()\n",
    "    adapter = HTTPAdapter(max_retries=Retry(connect=3, backoff_factor=0.5))\n",
    "    session.mount(\"http://\", adapter)\n",
    "    session.mount(\"https://\", adapter)\n",
    "    _request = session.get(site_link + reg_no)\n",
    "    return _request.status_code, _request.text"
   ]
  },
  {
   "cell_type": "code",
   "execution_count": 67,
   "metadata": {},
   "outputs": [],
   "source": [
    "sc, html_text = get_website('https://www.flightera.net/en/flight/', 'LH500')"
   ]
  },
  {
   "cell_type": "code",
   "execution_count": 68,
   "metadata": {},
   "outputs": [
    {
     "data": {
      "text/plain": [
       "'<!DOCTYPE html><html lang=\"en-US\"><head><title>Just a moment...</title><meta http-equiv=\"Content-Type\" content=\"text/html; charset=UTF-8\"><meta http-equiv=\"X-UA-Compatible\" content=\"IE=Edge\"><meta name=\"robots\" content=\"noindex,nofollow\"><meta name=\"viewport\" content=\"width=device-width,initial-scale=1\"><link href=\"/cdn-cgi/styles/challenges.css\" rel=\"stylesheet\"><meta http-equiv=\"refresh\" content=\"375\"></head><body class=\"no-js\"><div class=\"main-wrapper\" role=\"main\"><div class=\"main-content\"><noscript><div id=\"challenge-error-title\"><div class=\"h2\"><span class=\"icon-wrapper\"><div class=\"heading-icon warning-icon\"></div></span><span id=\"challenge-error-text\">Enable JavaScript and cookies to continue</span></div></div></noscript></div></div><script>(function(){window._cf_chl_opt={cvId: \\'2\\',cZone: \"www.flightera.net\",cType: \\'managed\\',cNounce: \\'5208\\',cRay: \\'8445376b3b7c85b1\\',cHash: \\'6cd821068b8a781\\',cUPMDTk: \"\\\\/en\\\\/flight\\\\/LH500?__cf_chl_tk=JpDILDqdwMPIkZeaXJQhJGh0NEDZPzwlEgs0V3LDp4w-1705060589-0-gaNycGzNCuU\",cFPWv: \\'b\\',cTTimeMs: \\'1000\\',cMTimeMs: \\'375000\\',cTplV: 5,cTplB: \\'cf\\',cK: \"visitor-time\",fa: \"\\\\/en\\\\/flight\\\\/LH500?__cf_chl_f_tk=JpDILDqdwMPIkZeaXJQhJGh0NEDZPzwlEgs0V3LDp4w-1705060589-0-gaNycGzNCuU\",md: \"V9u9wJM9PzFq1MdZmPsjbV12CeWIABH74DfFrlDqlpQ-1705060589-1-Aeva4ODJbRKCvoU4flyP2ZXdFcAGFyoFAx3y_YSxnGxijnxyaQCM4sBae4Ul0hSmPfF0ndY9eJeH0LrPG6v-ukPGmH_1UF4kNeFwOpCbTbEkWcEB6-HNFy8d3ITkQ0XK9t-J9P75DP5QAKRscyunOmgIibybw8jWdkiMLEnSLXVHFfP0EFJr3RjjZRgTAN1LmP7Qh00O8dOQmpDcn1m8EnxDtrqzOEWjrMTMT4AOvFGp5ljRULdI8QhBJ-QGPrx3ocRoSIJJb6yvUBVt_ZrMO2k7Kkx6AE0Q5mCHKuG08jn8f0M8YmU6O6jk6yhnLOT0HQmOQoA6LIrulnD4kG92yWHLUWQrZKvg61Mb-Nl7tjH5kXfrcwKt3hVV891cwgJCQpWnAB0WTK7UP_-8WPAj0KfF7PeWz03aprZmgDET6hwFRzUdXW5U3gku3Cwc_h5_geufqd7tt8R2QBQ4KdwDSYrpw8_Q1uAZtjphQXGyH88tTXkUYhmnr9lQOuLV8ZZDiPkThhNNYGhNsub9z8lfR3SJ9ZfngrJuBWrD4MMGu6fuA1WdIYxswoatif25adhP9VHcIphooAUk327hFVIFcaznhU_xTltR6TOctTG3wlXF7n8AT6muD1g3qyyPw1jVN9JZhyRISfvzbsyuW9hE1aRKIk9iWNEJqGlsR03gGVIVf3b75uCvErRxVSgpSarNQ0GbJC_N3N8LxGMBoOIUL1Icxm7B3LJ5NKzb4yNr_T3ApZBd_px27ky74FEJ9miDuRIV-nVx_3fo5QY1ujJtO-0w4AVmfg8uxotCdBKH5qxdASipN2ACIhOpNrX1OoSafqiDx2TTPnvPOz4gazAz99ecWPIPFMMkZGAzVO_34Dj_lIqb6ytmIQWHWY6zzZIHjIIakHwId9a9agcoJQGksPnVoW3glge2vY-wBhbaSBgODnoSGhoYc9sVq7FADZhH0oP8ToHq1cQ-gNL1AMt_5IQejX6JSv2ABPsXRfl9NA8hwR7VpinOvArIUCJ5INOgOD5bqWngKPZlwbXAK40d5DmnfM-HikVDj0YLt6YvxDNDzr9FZXf38K6UnOQqHpBUcKxb-MhVmzas8kkrA-KyxNZfLDiKJh-NOvo7uVbPx6zsijmcu-nGQsoL0OblCzhaokLOlJ1wx9lIBJIK5JYU3y-BNAf3E3Y5PYS3hZPu7OzTElj201wxwgc8_d7t1kt4gflUaqQpSajqi2vggm7SR4gBXseY4k4BiFRANhlOGdkUKt3KDc7zuSXc6vDqJYH11crW002u8BLyLKjnlbzVEM_tRuf5_Zt4iUiG2kAVjYygUQnB1H_euv7b-0rUTpwcJwEK7Yi7qKoLreJoW89awH2JvFUWR-9tHThbeLEoeSbKuCIXsbauKufdybSNZ832K7gY4ZLmIz0N0oE8v5qMK_s6gQsuUs3PEOizfMKigZyQS5dOR-UczISRPbYRGtjItEQ1GCRYhfVWedWg_icZSXkrFm54w6JdW5aIa6znBy_P44FPGh68WQ-aehji5zbuTt-ARk1esb1VsorZCRMmD5VYF7Z8boEICmNL2XE8Sth7Wf0lpjhrVavDihVk_nbBJuc-3xJ3YtRdOu4_zQjPE40FEO5Lk45Sr29_TwOaolrUTmiFVv-abtBFK0x7XCErsUhec3B0Of26GtihR-Hs_2TpzCV3qgFoDpITX9DPiYnlkNDKINvoucHHmJLoKIU0w6PeAEZMJ-YtMc5epIgYZn8xjSGykyW4v-MqWOdCZccPJWQ7Jo4jI6xP8svuUsgosr7N7M_c4eAwpGXFd2Ip2o0auTjAwOVrxrLRknJaIiNa8czjOuMnnHyNjULfBZBlp05U8jR9GbuAAZoPKxHSYuoVp8g-7Iej4xCH6150-dCxyDL7wQN3PB5jD5ZqsF_O_cleEZXV2btOcG-B7ZTgLGaE03a8tie32-3X2gkKfFaaz-EsDgV2ShamXUfePkO3TLrRC1PT5T7q8LhG4S3QoGcsT-IeN9MEydhy62-DyNbrOp01clympUho980UeYwrVQnd8WeXXdEX1TRjOAd-4bUAm0yZKVtS0-P_7kywpOJOuE70Plf8Ok4nbpRJTuxxOO9EDEy0YwGZYEYOpoPYqvR9GHp8qoshwWm8xnDZ0UN6yd89EqJjgWirOFPjEXqBJkf2cqD8uThhSzR-2kjJ3ksz_BeMkqa6PUjuUIYgN5FGfg0xRdFimIB6EfG1HV55VgDcfM7UD81kEx5K5eb8_P_rtsoVyGmwJtFsPRhyolNfstyYkV66Xsa4Q6iJW47JxsoQjNV-GCldWlqzs-oAdfEfQM3TeIDU2rrFaeZhTfqQYCQYsWY5oAVyUW-pIYvSyIRwzf1CuoPkvwYN_yCSqiLiGJcU5_WxUQsMzcxpD5fvSeYaR_0QwJZxP0NVSYV3tTm-lxAjPGXSs1HyGWHCtLwWdi1ahXbB1ar5PV6ZlsBrIMBEuKHvZo1BY-xlu1-sNg9gaClikGHLXJUe9QsnflaL1zgJ7gBv1vbflQ_PcMyAt3n6Thk7VFI6f87w6N1-_75gYsD3mqPmHSuY7x1duq3tuvhC4Elj_mjhfj0BgroRPTdwk06nQYRalN72B4ZWOSWcFHp77pW0dLLAB8Vb3iWdxmalJRgG0zcsms-r-Rsu55YEALV8ECpv_Vlv15uwREwO6IoA9OGfV7IZWKcj7htsOeAwDgi7gMrlMtGCJ-fM\",cRq: {ru: \\'aHR0cHM6Ly93d3cuZmxpZ2h0ZXJhLm5ldC9lbi9mbGlnaHQvTEg1MDA=\\',ra: \\'cHl0aG9uLXJlcXVlc3RzLzIuMjguMQ==\\',rm: \\'R0VU\\',d: \\'D7CDSJg1nF7z5VIZKcX9Ag3xuuceYknGHpThsxH22lF4og/iefQWU0/ZrBPQEBKmWk0WJk6FApwRe/covdHr9fDBGPt6HNXyoR+sdLGt5Q3GG6VDKiaHtiC9E3H8QgROVJH0sKXM1elYz9/7JxEcvnVfW80JAFcEJQaC5J0bnwwPoX1LiLBZb09MyGIVhJJvNI104MfCwrEcAkpFbBfR2dTiV3gxd3O7FBZf+907ZteV++rBbSo/568R3koaVJBIr1ZxvhOrsL96pY5G/nvsjiLOTrxnjm9Vhaovtjb0jnOu1Z+L2dj7DLtC/SvbONWyzXGAA01kPYM4qwoVtVna+LLsQIz74ZAQpSs2MiKh6vwHquknwaDTfdNX1pF9TprtQSOdbxE1YUz2dsL+lrndy+JPKAEErmJQXLZuwe55NsYTzDX5NHzr4BMG+ZBIxubeAJj7LZwOHUFWuVQg602YEx4BG80y01Xp7JWccohf/kTOqdFN5gSGfKH/eEAGv+GVoKQC9xTH19nDwS2Bhq0fsWu2u7OG7UgOUXyvZV51YC7xmo7aQhMf1EMwQLH04yqGOWJqqa0FYzy95+ZMYwzOcS24Y+MVVP3b+z562g22/GQ=\\',t: \\'MTcwNTA2MDU4OS4zMjkwMDA=\\',cT: Math.floor(Date.now() / 1000),m: \\'xPAyzMM7FcDG6/6lZzCa1m1WTqy/dxBUA1cay6iYqck=\\',i1: \\'ltuJ5/JwiG/qZkmCLP8JDQ==\\',i2: \\'+pEe5/wNN/zgqn+dqk/7PA==\\',zh: \\'AzEa9D5H/usmlPT/hJgIMTJapJyKT4lsjo6q0rnJD1Q=\\',uh: \\'SLdVolODg++SO356HusO5I/hbfOpiiOxQXj62i/MUkA=\\',hh: \\'fRAso0phft3H10ezXReEjb+DJ+rjFWJkYiV43ES9ps8=\\',}};var cpo = document.createElement(\\'script\\');cpo.src = \\'/cdn-cgi/challenge-platform/h/b/orchestrate/chl_page/v1?ray=8445376b3b7c85b1\\';window._cf_chl_opt.cOgUHash = location.hash === \\'\\' && location.href.indexOf(\\'#\\') !== -1 ? \\'#\\' : location.hash;window._cf_chl_opt.cOgUQuery = location.search === \\'\\' && location.href.slice(0, location.href.length - window._cf_chl_opt.cOgUHash.length).indexOf(\\'?\\') !== -1 ? \\'?\\' : location.search;if (window.history && window.history.replaceState) {var ogU = location.pathname + window._cf_chl_opt.cOgUQuery + window._cf_chl_opt.cOgUHash;history.replaceState(null, null, \"\\\\/en\\\\/flight\\\\/LH500?__cf_chl_rt_tk=JpDILDqdwMPIkZeaXJQhJGh0NEDZPzwlEgs0V3LDp4w-1705060589-0-gaNycGzNCuU\" + window._cf_chl_opt.cOgUHash);cpo.onload = function() {history.replaceState(null, null, ogU);}}document.getElementsByTagName(\\'head\\')[0].appendChild(cpo);}());</script></body></html>'"
      ]
     },
     "execution_count": 68,
     "metadata": {},
     "output_type": "execute_result"
    }
   ],
   "source": [
    "html_text"
   ]
  },
  {
   "cell_type": "code",
   "execution_count": 73,
   "metadata": {},
   "outputs": [],
   "source": [
    "dr.get('https://www.flightera.net/en/flight/' + 'LH500')\n",
    "soup2 = BeautifulSoup(dr.page_source,\"lxml\")"
   ]
  },
  {
   "cell_type": "code",
   "execution_count": 77,
   "metadata": {},
   "outputs": [],
   "source": [
    "# soup = BeautifulSoup(html_text, 'lxml')\n",
    "info = soup2.find('main', class_='flex-auto px-2 max-w-4xl mt-4 mx-auto')"
   ]
  },
  {
   "cell_type": "code",
   "execution_count": 78,
   "metadata": {},
   "outputs": [
    {
     "data": {
      "text/plain": [
       "'Lufthansa LH500  (DLH500)'"
      ]
     },
     "execution_count": 78,
     "metadata": {},
     "output_type": "execute_result"
    }
   ],
   "source": [
    "flight_number_info = info.find('h1', class_='text-xl text-center leading-5 font-bold text-gray-800 dark:text-white')\n",
    "flight_number_info.text.strip()"
   ]
  },
  {
   "cell_type": "code",
   "execution_count": 79,
   "metadata": {},
   "outputs": [
    {
     "data": {
      "text/plain": [
       "'This flight is scheduled, it will depart in 9 hours.'"
      ]
     },
     "execution_count": 79,
     "metadata": {},
     "output_type": "execute_result"
    }
   ],
   "source": [
    "flight_status = info.find('dd', class_='text-center text-sm leading-5 text-gray-900 dark:text-white mt-2')\n",
    "flight_status.text.strip()"
   ]
  },
  {
   "cell_type": "code",
   "execution_count": 82,
   "metadata": {},
   "outputs": [
    {
     "name": "stdout",
     "output_type": "stream",
     "text": [
      "Frankfurt\n",
      "Rio de Janeiro\n"
     ]
    }
   ],
   "source": [
    "origin_and_destination = info.findAll('span', class_='text-xl')\n",
    "origin_name = origin_and_destination[0].text.strip()\n",
    "destination_name = origin_and_destination[1].text.strip()\n",
    "print(origin_name)\n",
    "print(destination_name)"
   ]
  },
  {
   "cell_type": "code",
   "execution_count": 87,
   "metadata": {},
   "outputs": [
    {
     "data": {
      "text/plain": [
       "'FRA/EDDF'"
      ]
     },
     "execution_count": 87,
     "metadata": {},
     "output_type": "execute_result"
    }
   ],
   "source": [
    "origin_airport_code_info = info.find('dd', class_='text-left text-xs leading-5 text-gray-500 dark:text-white')\n",
    "code_string = remove_delimiters(origin_airport_code_info.text.strip())\n",
    "origin_airport_code = code_string[0:3] + \"/\" + code_string[-4:]\n",
    "origin_airport_code"
   ]
  },
  {
   "cell_type": "code",
   "execution_count": 88,
   "metadata": {},
   "outputs": [
    {
     "data": {
      "text/plain": [
       "'GIG/SBGL'"
      ]
     },
     "execution_count": 88,
     "metadata": {},
     "output_type": "execute_result"
    }
   ],
   "source": [
    "destination_airport_code_info = info.find('dd', class_='text-right text-xs leading-5 text-gray-500 dark:text-white')\n",
    "code_string = remove_delimiters(destination_airport_code_info.text.strip())\n",
    "destination_airport_code = code_string[0:3] + \"/\" + code_string[-4:]\n",
    "destination_airport_code"
   ]
  },
  {
   "cell_type": "code",
   "execution_count": 90,
   "metadata": {},
   "outputs": [
    {
     "name": "stdout",
     "output_type": "stream",
     "text": [
      "12h 25m\n",
      "9,579km  / 5,913mi\n"
     ]
    }
   ],
   "source": [
    "flight_info = info.find('div', class_='col-span-1 text-xs text-center text-gray-600 dark:text-white mt-2')\n",
    "flight_duration_info = flight_info.findAll('span', class_='whitespace-nowrap')\n",
    "flight_duration = flight_duration_info[0].text.strip()\n",
    "flight_distance = flight_duration_info[1].text.strip()\n",
    "print(flight_duration)\n",
    "print(flight_distance)\n"
   ]
  },
  {
   "cell_type": "code",
   "execution_count": 91,
   "metadata": {},
   "outputs": [
    {
     "name": "stdout",
     "output_type": "stream",
     "text": [
      "\n",
      "CHECK-IN: 259-488\n",
      "TERMINAL: 1\n",
      "GATE: B25\n",
      "\n"
     ]
    }
   ],
   "source": [
    "terminal_and_gate_origin = info.find('dd', class_='text-left text-sm leading-5 text-gray-800 dark:text-white')\n",
    "print(terminal_and_gate_origin.text)"
   ]
  },
  {
   "cell_type": "code",
   "execution_count": 92,
   "metadata": {},
   "outputs": [
    {
     "name": "stdout",
     "output_type": "stream",
     "text": [
      "\n",
      "TERMINAL: 2\n",
      "\n"
     ]
    }
   ],
   "source": [
    "terminal_and_gate_destination = info.find('dd', class_='text-right text-sm leading-5 text-gray-500 dark:text-white')\n",
    "print(terminal_and_gate_destination.text)"
   ]
  },
  {
   "cell_type": "code",
   "execution_count": 93,
   "metadata": {},
   "outputs": [
    {
     "ename": "AttributeError",
     "evalue": "'NoneType' object has no attribute 'find'",
     "output_type": "error",
     "traceback": [
      "\u001b[1;31m---------------------------------------------------------------------------\u001b[0m",
      "\u001b[1;31mAttributeError\u001b[0m                            Traceback (most recent call last)",
      "Cell \u001b[1;32mIn[93], line 1\u001b[0m\n\u001b[1;32m----> 1\u001b[0m frequency_info \u001b[38;5;241m=\u001b[39m \u001b[43minfo\u001b[49m\u001b[38;5;241;43m.\u001b[39;49m\u001b[43mfind\u001b[49m\u001b[43m(\u001b[49m\u001b[38;5;124;43m'\u001b[39;49m\u001b[38;5;124;43mdiv\u001b[39;49m\u001b[38;5;124;43m'\u001b[39;49m\u001b[43m,\u001b[49m\u001b[43m \u001b[49m\u001b[43mclass_\u001b[49m\u001b[38;5;241;43m=\u001b[39;49m\u001b[38;5;124;43m'\u001b[39;49m\u001b[38;5;124;43mcol-span-1 text-left\u001b[39;49m\u001b[38;5;124;43m'\u001b[39;49m\u001b[43m)\u001b[49m\u001b[38;5;241;43m.\u001b[39;49m\u001b[43mfind\u001b[49m(\u001b[38;5;124m'\u001b[39m\u001b[38;5;124mdd\u001b[39m\u001b[38;5;124m'\u001b[39m)\n\u001b[0;32m      2\u001b[0m frequency \u001b[38;5;241m=\u001b[39m frequency_info\u001b[38;5;241m.\u001b[39mfind(\u001b[38;5;124m'\u001b[39m\u001b[38;5;124mspan\u001b[39m\u001b[38;5;124m'\u001b[39m)\u001b[38;5;241m.\u001b[39mtext\n\u001b[0;32m      3\u001b[0m \u001b[38;5;28mprint\u001b[39m(frequency)\n",
      "\u001b[1;31mAttributeError\u001b[0m: 'NoneType' object has no attribute 'find'"
     ]
    }
   ],
   "source": [
    "frequency_info = info.find('div', class_='col-span-1 text-left').find('dd')\n",
    "frequency = frequency_info.find('span').text\n",
    "print(frequency)\n",
    "days_running = frequency_info.text.strip()[len(frequency):].strip()\n",
    "print(days_running)"
   ]
  },
  {
   "cell_type": "code",
   "execution_count": 96,
   "metadata": {},
   "outputs": [
    {
     "data": {
      "text/plain": [
       "'22:11 CET'"
      ]
     },
     "execution_count": 96,
     "metadata": {},
     "output_type": "execute_result"
    }
   ],
   "source": [
    "depatrure = info.find(\"dt\", class_=\"text-left text-md text-base leading-5 text-gray-800 dark:text-gray-100\")\n",
    "departure = depatrure.text.strip()\n",
    "departure[-9:-4] + \" \" + departure[-3:]"
   ]
  },
  {
   "cell_type": "code",
   "execution_count": 97,
   "metadata": {},
   "outputs": [
    {
     "data": {
      "text/plain": [
       "'\\n06:40\\nUTC-03'"
      ]
     },
     "execution_count": 97,
     "metadata": {},
     "output_type": "execute_result"
    }
   ],
   "source": [
    "arrival = info.find(\"dt\", class_=\"text-right text-md text-base leading-5 text-gray-800 dark:text-gray-100\")\n",
    "arrival.find(\"span\", class_=\"whitespace-nowrap\").text"
   ]
  },
  {
   "cell_type": "code",
   "execution_count": 98,
   "metadata": {},
   "outputs": [
    {
     "ename": "AttributeError",
     "evalue": "'NoneType' object has no attribute 'text'",
     "output_type": "error",
     "traceback": [
      "\u001b[1;31m---------------------------------------------------------------------------\u001b[0m",
      "\u001b[1;31mAttributeError\u001b[0m                            Traceback (most recent call last)",
      "Cell \u001b[1;32mIn[98], line 2\u001b[0m\n\u001b[0;32m      1\u001b[0m airline_name \u001b[38;5;241m=\u001b[39m info\u001b[38;5;241m.\u001b[39mfind(\u001b[38;5;124m'\u001b[39m\u001b[38;5;124mdd\u001b[39m\u001b[38;5;124m'\u001b[39m, class_\u001b[38;5;241m=\u001b[39m\u001b[38;5;124m'\u001b[39m\u001b[38;5;124mtext-sm text-right leading-5 text-gray-900 dark:text-white\u001b[39m\u001b[38;5;124m'\u001b[39m)\n\u001b[1;32m----> 2\u001b[0m \u001b[38;5;28mprint\u001b[39m(\u001b[43mairline_name\u001b[49m\u001b[38;5;241;43m.\u001b[39;49m\u001b[43mtext\u001b[49m\u001b[38;5;241m.\u001b[39mstrip())\n",
      "\u001b[1;31mAttributeError\u001b[0m: 'NoneType' object has no attribute 'text'"
     ]
    }
   ],
   "source": [
    "airline_name = info.find('dd', class_='text-sm text-right leading-5 text-gray-900 dark:text-white')\n",
    "print(airline_name.text.strip())"
   ]
  },
  {
   "cell_type": "code",
   "execution_count": 106,
   "metadata": {},
   "outputs": [
    {
     "data": {
      "text/plain": [
       "['NAME',\n",
       " 'IATA / ICAO',\n",
       " 'COUNTRY',\n",
       " 'MODEL',\n",
       " 'ICAO IDENTIFIER',\n",
       " 'SEAT CONFIGURATION',\n",
       " 'FIRST FLIGHT',\n",
       " 'DIRECT DISTANCE',\n",
       " 'FLIGHT TIME',\n",
       " 'FLIGHTS / WEEK',\n",
       " 'PUNCTUALITY',\n",
       " 'SEATS / WEEK']"
      ]
     },
     "execution_count": 106,
     "metadata": {},
     "output_type": "execute_result"
    }
   ],
   "source": [
    "_headings = info.findAll('dt', class_='font-bold text-gray-500 dark:text-gray-700')\n",
    "plane_info_headings = []\n",
    "for i in _headings:\n",
    "    plane_info_headings.append(i.text.strip())\n",
    "\n",
    "# _headings = info.findAll('dt', class_='text-right text-sm leading-5 font-bold text-gray-500 dark:text-gray-300')\n",
    "# for k in _headings:\n",
    "#     plane_info_headings.append(k.text.strip())\n",
    "plane_info_headings"
   ]
  },
  {
   "cell_type": "code",
   "execution_count": 111,
   "metadata": {},
   "outputs": [
    {
     "name": "stdout",
     "output_type": "stream",
     "text": [
      "D-AIFE\n",
      "              Airbus A340-300\n",
      "298 seats\n",
      "18 Business\n",
      "19 Eco+\n",
      "261 Economy\n",
      "Sep 200122 years ago\n"
     ]
    },
    {
     "data": {
      "text/plain": [
       "['D-AIFE\\n              Airbus A340-300',\n",
       " '298 seats\\n18 Business\\n19 Eco+\\n261 Economy',\n",
       " 'Sep 200122 years ago',\n",
       " '3x per week\\n\\n            \\n                                Tue, Thu, Sat']"
      ]
     },
     "execution_count": 111,
     "metadata": {},
     "output_type": "execute_result"
    }
   ],
   "source": [
    "# plane_info = []\n",
    "# plane_info_superclass = info.findAll('div', 'col-span-1 lg:text-center dark:bg-gray-400 bg-gray-100 rounded-lg p-4 shadow text-center text-sm leading-5')\n",
    "# for plane_info_item in plane_info_superclass:\n",
    "#     i = plane_info_item.find('dd')\n",
    "#     plane_info.append(i.text.strip())\n",
    "# plane_info\n",
    "model_and_seat_config_info = info.findAll('dd', class_='text-gray-500 dark:text-white')\n",
    "plane_info_items = []\n",
    "for i in model_and_seat_config_info:\n",
    "    plane_info_items.append(i.text.strip())\n",
    "\n",
    "# icao_identifier = info.find('dd', class_='text-right text-sm leading-5 text-gray-900 dark:text-white')\n",
    "# plane_info_items.append(icao_identifier.text.strip())\n",
    "\n",
    "# first_flight = info.findAll('dd', class_='text-right text-sm leading-5 text-gray-500 dark:text-white')[1]\n",
    "# plane_info_items.append(first_flight.text.strip())\n",
    "\n",
    "\n",
    "# plane_info_items[0] = \" \".join(plane_info_items[0].split()) \n",
    "# plane_info_items[3] = plane_info_items[3][0:8]\n",
    "\n",
    "print(plane_info_items[0])\n",
    "print(plane_info_items[1])\n",
    "print(plane_info_items[2])\n",
    "\n",
    "plane_info_items"
   ]
  },
  {
   "cell_type": "code",
   "execution_count": 112,
   "metadata": {},
   "outputs": [
    {
     "data": {
      "text/plain": [
       "{'NAME': 'D-AIFE\\n              Airbus A340-300',\n",
       " 'IATA / ICAO': '298 seats\\n18 Business\\n19 Eco+\\n261 Economy',\n",
       " 'COUNTRY': 'Sep 200122 years ago',\n",
       " 'MODEL': '3x per week\\n\\n            \\n                                Tue, Thu, Sat'}"
      ]
     },
     "execution_count": 112,
     "metadata": {},
     "output_type": "execute_result"
    }
   ],
   "source": [
    "plane_info_dict = dict(zip(plane_info_headings, plane_info_items))\n",
    "plane_info_dict"
   ]
  },
  {
   "cell_type": "code",
   "execution_count": 105,
   "metadata": {},
   "outputs": [
    {
     "data": {
      "text/plain": [
       "[               DATE FLIGHT NUMBER  \\\n",
       " 0  14. Jan  Planned         LH500   \n",
       " 1  12. Jan  On Time         LH500   \n",
       " 2   10. Jan  Landed         LH500   \n",
       " 3   07. Jan  Landed         LH500   \n",
       " 4   05. Jan  Landed         LH500   \n",
       " \n",
       "                                                 FROM  \\\n",
       " 0  Frankfurt  22:15 CET  Frankfurt (FRA / EDDF)  ...   \n",
       " 1  Frankfurt  22:15 CET  Frankfurt (FRA / EDDF)  ...   \n",
       " 2  Frankfurt  19min late Frankfurt (FRA / EDDF)  ...   \n",
       " 3  Frankfurt  33min late Frankfurt (FRA / EDDF)  ...   \n",
       " 4  Frankfurt  19min late Frankfurt (FRA / EDDF)  ...   \n",
       " \n",
       "                                                   TO           DEPARTED  \\\n",
       " 0  Rio de Janeiro  06:40 UTC-03  Rio de Janeiro (...                NaN   \n",
       " 1  Rio de Janeiro  06:40 UTC-03  Rio de Janeiro (...                NaN   \n",
       " 2  Rio de Janeiro  25min early Rio de Janeiro (GI...  22:34  19min late   \n",
       " 3  Rio de Janeiro  11min early Rio de Janeiro (GI...  22:48  33min late   \n",
       " 4  Rio de Janeiro  9min early Rio de Janeiro (GIG...  22:34  19min late   \n",
       " \n",
       "               ARRIVED  Unnamed: 6  \n",
       " 0                 NaN         NaN  \n",
       " 1                 NaN         NaN  \n",
       " 2  06:14  25min early         NaN  \n",
       " 3  06:28  11min early         NaN  \n",
       " 4   06:30  9min early         NaN  ,\n",
       "      Date / Status  Flight Number           Airline  \\\n",
       " 0  12. Jan  Landed  LH581  DLH581  Lufthansa LH/DLH   \n",
       " 1  12. Jan  Landed  LH625  DLH625  Lufthansa LH/DLH   \n",
       " 2  12. Jan  Landed  LH601  DLH601  Lufthansa LH/DLH   \n",
       " 3  12. Jan  Landed  LH637  DLH637  Lufthansa LH/DLH   \n",
       " 4  12. Jan  Landed  LH755  DLH755  Lufthansa LH/DLH   \n",
       " \n",
       "                                          Departure  \\\n",
       " 0       01:51 EET  11. Jan 23:51 UTC  12 hours ago   \n",
       " 1            03:46 UTC+03  00:46 UTC  11 hours ago   \n",
       " 2  02:38 UTC+0330  11. Jan 23:08 UTC  12 hours ago   \n",
       " 3    02:10 UTC+03  11. Jan 23:10 UTC  12 hours ago   \n",
       " 4       04:05 IST  11. Jan 22:35 UTC  13 hours ago   \n",
       " \n",
       "                              Arrival  Unnamed: 5  \n",
       " 0  05:18 CET  04:18 UTC  7 hours ago         NaN  \n",
       " 1  08:11 CET  07:11 UTC  4 hours ago         NaN  \n",
       " 2  05:37 CET  04:37 UTC  7 hours ago         NaN  \n",
       " 3  06:40 CET  05:40 UTC  6 hours ago         NaN  \n",
       " 4  09:06 CET  08:06 UTC  3 hours ago         NaN  ]"
      ]
     },
     "execution_count": 105,
     "metadata": {},
     "output_type": "execute_result"
    }
   ],
   "source": [
    "tables = pd.read_html(dr.page_source)\n",
    "tables"
   ]
  },
  {
   "cell_type": "code",
   "execution_count": 100,
   "metadata": {},
   "outputs": [
    {
     "data": {
      "text/html": [
       "<div>\n",
       "<style scoped>\n",
       "    .dataframe tbody tr th:only-of-type {\n",
       "        vertical-align: middle;\n",
       "    }\n",
       "\n",
       "    .dataframe tbody tr th {\n",
       "        vertical-align: top;\n",
       "    }\n",
       "\n",
       "    .dataframe thead th {\n",
       "        text-align: right;\n",
       "    }\n",
       "</style>\n",
       "<table border=\"1\" class=\"dataframe\">\n",
       "  <thead>\n",
       "    <tr style=\"text-align: right;\">\n",
       "      <th></th>\n",
       "      <th>DATE</th>\n",
       "      <th>FLIGHT NUMBER</th>\n",
       "      <th>FROM</th>\n",
       "      <th>TO</th>\n",
       "      <th>DEPARTED</th>\n",
       "      <th>ARRIVED</th>\n",
       "      <th>Unnamed: 6</th>\n",
       "    </tr>\n",
       "  </thead>\n",
       "  <tbody>\n",
       "    <tr>\n",
       "      <th>0</th>\n",
       "      <td>14. Jan  Planned</td>\n",
       "      <td>LH500</td>\n",
       "      <td>Frankfurt  22:15 CET  Frankfurt (FRA / EDDF)  ...</td>\n",
       "      <td>Rio de Janeiro  06:40 UTC-03  Rio de Janeiro (...</td>\n",
       "      <td>NaN</td>\n",
       "      <td>NaN</td>\n",
       "      <td>NaN</td>\n",
       "    </tr>\n",
       "    <tr>\n",
       "      <th>1</th>\n",
       "      <td>12. Jan  On Time</td>\n",
       "      <td>LH500</td>\n",
       "      <td>Frankfurt  22:15 CET  Frankfurt (FRA / EDDF)  ...</td>\n",
       "      <td>Rio de Janeiro  06:40 UTC-03  Rio de Janeiro (...</td>\n",
       "      <td>NaN</td>\n",
       "      <td>NaN</td>\n",
       "      <td>NaN</td>\n",
       "    </tr>\n",
       "    <tr>\n",
       "      <th>2</th>\n",
       "      <td>10. Jan  Landed</td>\n",
       "      <td>LH500</td>\n",
       "      <td>Frankfurt  19min late Frankfurt (FRA / EDDF)  ...</td>\n",
       "      <td>Rio de Janeiro  25min early Rio de Janeiro (GI...</td>\n",
       "      <td>22:34  19min late</td>\n",
       "      <td>06:14  25min early</td>\n",
       "      <td>NaN</td>\n",
       "    </tr>\n",
       "    <tr>\n",
       "      <th>3</th>\n",
       "      <td>07. Jan  Landed</td>\n",
       "      <td>LH500</td>\n",
       "      <td>Frankfurt  33min late Frankfurt (FRA / EDDF)  ...</td>\n",
       "      <td>Rio de Janeiro  11min early Rio de Janeiro (GI...</td>\n",
       "      <td>22:48  33min late</td>\n",
       "      <td>06:28  11min early</td>\n",
       "      <td>NaN</td>\n",
       "    </tr>\n",
       "    <tr>\n",
       "      <th>4</th>\n",
       "      <td>05. Jan  Landed</td>\n",
       "      <td>LH500</td>\n",
       "      <td>Frankfurt  19min late Frankfurt (FRA / EDDF)  ...</td>\n",
       "      <td>Rio de Janeiro  9min early Rio de Janeiro (GIG...</td>\n",
       "      <td>22:34  19min late</td>\n",
       "      <td>06:30  9min early</td>\n",
       "      <td>NaN</td>\n",
       "    </tr>\n",
       "  </tbody>\n",
       "</table>\n",
       "</div>"
      ],
      "text/plain": [
       "               DATE FLIGHT NUMBER  \\\n",
       "0  14. Jan  Planned         LH500   \n",
       "1  12. Jan  On Time         LH500   \n",
       "2   10. Jan  Landed         LH500   \n",
       "3   07. Jan  Landed         LH500   \n",
       "4   05. Jan  Landed         LH500   \n",
       "\n",
       "                                                FROM  \\\n",
       "0  Frankfurt  22:15 CET  Frankfurt (FRA / EDDF)  ...   \n",
       "1  Frankfurt  22:15 CET  Frankfurt (FRA / EDDF)  ...   \n",
       "2  Frankfurt  19min late Frankfurt (FRA / EDDF)  ...   \n",
       "3  Frankfurt  33min late Frankfurt (FRA / EDDF)  ...   \n",
       "4  Frankfurt  19min late Frankfurt (FRA / EDDF)  ...   \n",
       "\n",
       "                                                  TO           DEPARTED  \\\n",
       "0  Rio de Janeiro  06:40 UTC-03  Rio de Janeiro (...                NaN   \n",
       "1  Rio de Janeiro  06:40 UTC-03  Rio de Janeiro (...                NaN   \n",
       "2  Rio de Janeiro  25min early Rio de Janeiro (GI...  22:34  19min late   \n",
       "3  Rio de Janeiro  11min early Rio de Janeiro (GI...  22:48  33min late   \n",
       "4  Rio de Janeiro  9min early Rio de Janeiro (GIG...  22:34  19min late   \n",
       "\n",
       "              ARRIVED  Unnamed: 6  \n",
       "0                 NaN         NaN  \n",
       "1                 NaN         NaN  \n",
       "2  06:14  25min early         NaN  \n",
       "3  06:28  11min early         NaN  \n",
       "4   06:30  9min early         NaN  "
      ]
     },
     "execution_count": 100,
     "metadata": {},
     "output_type": "execute_result"
    }
   ],
   "source": [
    "df = tables[0]\n",
    "df"
   ]
  },
  {
   "cell_type": "code",
   "execution_count": 101,
   "metadata": {},
   "outputs": [],
   "source": [
    "df = df.iloc[:, :-1]"
   ]
  },
  {
   "cell_type": "code",
   "execution_count": 102,
   "metadata": {},
   "outputs": [
    {
     "data": {
      "text/html": [
       "<div>\n",
       "<style scoped>\n",
       "    .dataframe tbody tr th:only-of-type {\n",
       "        vertical-align: middle;\n",
       "    }\n",
       "\n",
       "    .dataframe tbody tr th {\n",
       "        vertical-align: top;\n",
       "    }\n",
       "\n",
       "    .dataframe thead th {\n",
       "        text-align: right;\n",
       "    }\n",
       "</style>\n",
       "<table border=\"1\" class=\"dataframe\">\n",
       "  <thead>\n",
       "    <tr style=\"text-align: right;\">\n",
       "      <th></th>\n",
       "      <th>DATE</th>\n",
       "      <th>FLIGHT NUMBER</th>\n",
       "      <th>FROM</th>\n",
       "      <th>TO</th>\n",
       "      <th>DEPARTED</th>\n",
       "      <th>ARRIVED</th>\n",
       "    </tr>\n",
       "  </thead>\n",
       "  <tbody>\n",
       "    <tr>\n",
       "      <th>0</th>\n",
       "      <td>14. Jan  Planned</td>\n",
       "      <td>LH500</td>\n",
       "      <td>Frankfurt  22:15 CET  Frankfurt (FRA / EDDF)  ...</td>\n",
       "      <td>Rio de Janeiro  06:40 UTC-03  Rio de Janeiro (...</td>\n",
       "      <td>NaN</td>\n",
       "      <td>NaN</td>\n",
       "    </tr>\n",
       "    <tr>\n",
       "      <th>1</th>\n",
       "      <td>12. Jan  On Time</td>\n",
       "      <td>LH500</td>\n",
       "      <td>Frankfurt  22:15 CET  Frankfurt (FRA / EDDF)  ...</td>\n",
       "      <td>Rio de Janeiro  06:40 UTC-03  Rio de Janeiro (...</td>\n",
       "      <td>NaN</td>\n",
       "      <td>NaN</td>\n",
       "    </tr>\n",
       "    <tr>\n",
       "      <th>2</th>\n",
       "      <td>10. Jan  Landed</td>\n",
       "      <td>LH500</td>\n",
       "      <td>Frankfurt  19min late Frankfurt (FRA / EDDF)  ...</td>\n",
       "      <td>Rio de Janeiro  25min early Rio de Janeiro (GI...</td>\n",
       "      <td>22:34  19min late</td>\n",
       "      <td>06:14  25min early</td>\n",
       "    </tr>\n",
       "    <tr>\n",
       "      <th>3</th>\n",
       "      <td>07. Jan  Landed</td>\n",
       "      <td>LH500</td>\n",
       "      <td>Frankfurt  33min late Frankfurt (FRA / EDDF)  ...</td>\n",
       "      <td>Rio de Janeiro  11min early Rio de Janeiro (GI...</td>\n",
       "      <td>22:48  33min late</td>\n",
       "      <td>06:28  11min early</td>\n",
       "    </tr>\n",
       "    <tr>\n",
       "      <th>4</th>\n",
       "      <td>05. Jan  Landed</td>\n",
       "      <td>LH500</td>\n",
       "      <td>Frankfurt  19min late Frankfurt (FRA / EDDF)  ...</td>\n",
       "      <td>Rio de Janeiro  9min early Rio de Janeiro (GIG...</td>\n",
       "      <td>22:34  19min late</td>\n",
       "      <td>06:30  9min early</td>\n",
       "    </tr>\n",
       "  </tbody>\n",
       "</table>\n",
       "</div>"
      ],
      "text/plain": [
       "               DATE FLIGHT NUMBER  \\\n",
       "0  14. Jan  Planned         LH500   \n",
       "1  12. Jan  On Time         LH500   \n",
       "2   10. Jan  Landed         LH500   \n",
       "3   07. Jan  Landed         LH500   \n",
       "4   05. Jan  Landed         LH500   \n",
       "\n",
       "                                                FROM  \\\n",
       "0  Frankfurt  22:15 CET  Frankfurt (FRA / EDDF)  ...   \n",
       "1  Frankfurt  22:15 CET  Frankfurt (FRA / EDDF)  ...   \n",
       "2  Frankfurt  19min late Frankfurt (FRA / EDDF)  ...   \n",
       "3  Frankfurt  33min late Frankfurt (FRA / EDDF)  ...   \n",
       "4  Frankfurt  19min late Frankfurt (FRA / EDDF)  ...   \n",
       "\n",
       "                                                  TO           DEPARTED  \\\n",
       "0  Rio de Janeiro  06:40 UTC-03  Rio de Janeiro (...                NaN   \n",
       "1  Rio de Janeiro  06:40 UTC-03  Rio de Janeiro (...                NaN   \n",
       "2  Rio de Janeiro  25min early Rio de Janeiro (GI...  22:34  19min late   \n",
       "3  Rio de Janeiro  11min early Rio de Janeiro (GI...  22:48  33min late   \n",
       "4  Rio de Janeiro  9min early Rio de Janeiro (GIG...  22:34  19min late   \n",
       "\n",
       "              ARRIVED  \n",
       "0                 NaN  \n",
       "1                 NaN  \n",
       "2  06:14  25min early  \n",
       "3  06:28  11min early  \n",
       "4   06:30  9min early  "
      ]
     },
     "execution_count": 102,
     "metadata": {},
     "output_type": "execute_result"
    }
   ],
   "source": [
    "df"
   ]
  },
  {
   "cell_type": "code",
   "execution_count": null,
   "metadata": {},
   "outputs": [],
   "source": []
  }
 ],
 "metadata": {
  "kernelspec": {
   "display_name": "base",
   "language": "python",
   "name": "python3"
  },
  "language_info": {
   "codemirror_mode": {
    "name": "ipython",
    "version": 3
   },
   "file_extension": ".py",
   "mimetype": "text/x-python",
   "name": "python",
   "nbconvert_exporter": "python",
   "pygments_lexer": "ipython3",
   "version": "3.9.13"
  }
 },
 "nbformat": 4,
 "nbformat_minor": 2
}
